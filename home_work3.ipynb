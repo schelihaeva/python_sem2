{
 "cells": [
  {
   "cell_type": "code",
   "execution_count": 1,
   "id": "initial_id",
   "metadata": {
    "collapsed": true,
    "ExecuteTime": {
     "end_time": "2024-02-28T20:10:43.666294800Z",
     "start_time": "2024-02-28T20:10:43.012237300Z"
    }
   },
   "outputs": [],
   "source": [
    "import pandas as pd\n",
    "import numpy as np"
   ]
  },
  {
   "cell_type": "markdown",
   "source": [
    "# Составьте несколько сводных таблиц.\n",
    "### Данные находятся в файле kc_house_data.csv."
   ],
   "metadata": {
    "collapsed": false
   },
   "id": "a828649356aaa87a"
  },
  {
   "cell_type": "code",
   "execution_count": 2,
   "outputs": [],
   "source": [
    "df = pd.read_csv('kc_house_data.csv')"
   ],
   "metadata": {
    "collapsed": false,
    "ExecuteTime": {
     "end_time": "2024-02-28T20:10:43.750267500Z",
     "start_time": "2024-02-28T20:10:43.665295400Z"
    }
   },
   "id": "410262d2efaa7462"
  },
  {
   "cell_type": "markdown",
   "source": [
    "1. среднюю стоимость домов в зависимости от количества спален и сохраните в avg. Отсортируйте от меньшей стоимости к большей."
   ],
   "metadata": {
    "collapsed": false
   },
   "id": "15f54c773cf457ae"
  },
  {
   "cell_type": "code",
   "execution_count": 3,
   "outputs": [
    {
     "data": {
      "text/plain": "                 price\nbedrooms              \n1         3.176429e+05\n2         4.013727e+05\n0         4.095038e+05\n3         4.662321e+05\n11        5.200000e+05\n4         6.354195e+05\n33        6.400000e+05\n5         7.865998e+05\n10        8.193333e+05\n6         8.255206e+05\n9         8.939998e+05\n7         9.511847e+05\n8         1.105077e+06",
      "text/html": "<div>\n<style scoped>\n    .dataframe tbody tr th:only-of-type {\n        vertical-align: middle;\n    }\n\n    .dataframe tbody tr th {\n        vertical-align: top;\n    }\n\n    .dataframe thead th {\n        text-align: right;\n    }\n</style>\n<table border=\"1\" class=\"dataframe\">\n  <thead>\n    <tr style=\"text-align: right;\">\n      <th></th>\n      <th>price</th>\n    </tr>\n    <tr>\n      <th>bedrooms</th>\n      <th></th>\n    </tr>\n  </thead>\n  <tbody>\n    <tr>\n      <th>1</th>\n      <td>3.176429e+05</td>\n    </tr>\n    <tr>\n      <th>2</th>\n      <td>4.013727e+05</td>\n    </tr>\n    <tr>\n      <th>0</th>\n      <td>4.095038e+05</td>\n    </tr>\n    <tr>\n      <th>3</th>\n      <td>4.662321e+05</td>\n    </tr>\n    <tr>\n      <th>11</th>\n      <td>5.200000e+05</td>\n    </tr>\n    <tr>\n      <th>4</th>\n      <td>6.354195e+05</td>\n    </tr>\n    <tr>\n      <th>33</th>\n      <td>6.400000e+05</td>\n    </tr>\n    <tr>\n      <th>5</th>\n      <td>7.865998e+05</td>\n    </tr>\n    <tr>\n      <th>10</th>\n      <td>8.193333e+05</td>\n    </tr>\n    <tr>\n      <th>6</th>\n      <td>8.255206e+05</td>\n    </tr>\n    <tr>\n      <th>9</th>\n      <td>8.939998e+05</td>\n    </tr>\n    <tr>\n      <th>7</th>\n      <td>9.511847e+05</td>\n    </tr>\n    <tr>\n      <th>8</th>\n      <td>1.105077e+06</td>\n    </tr>\n  </tbody>\n</table>\n</div>"
     },
     "execution_count": 3,
     "metadata": {},
     "output_type": "execute_result"
    }
   ],
   "source": [
    "avg1 = df.groupby('bedrooms')['price'].mean().sort_values()\n",
    "avg = df.pivot_table(index='bedrooms', values='price',aggfunc='mean').sort_values(by='price')\n",
    "avg"
   ],
   "metadata": {
    "collapsed": false,
    "ExecuteTime": {
     "end_time": "2024-02-28T20:10:43.819246100Z",
     "start_time": "2024-02-28T20:10:43.746268900Z"
    }
   },
   "id": "c19425db3b905671"
  },
  {
   "cell_type": "markdown",
   "source": [
    "2. Найдите минимальную min, среднюю mean и максимальную max стоимости домов в зависимости от состояния дома и сохраните в price."
   ],
   "metadata": {
    "collapsed": false
   },
   "id": "d685f45a8395b799"
  },
  {
   "cell_type": "code",
   "execution_count": 4,
   "outputs": [
    {
     "data": {
      "text/plain": "                min                                                    \\\nprice     75000.0   78000.0   80000.0   81000.0   82000.0   82500.0     \ncondition                                                               \n1               NaN   78000.0       NaN   81000.0       NaN       NaN   \n2               NaN       NaN   80000.0       NaN       NaN   82500.0   \n3           75000.0       NaN       NaN       NaN   82000.0       NaN   \n4               NaN       NaN       NaN       NaN       NaN       NaN   \n5               NaN       NaN       NaN       NaN       NaN       NaN   \n\n                                                   ...        max             \\\nprice     83000.0   84000.0   85000.0   86500.0    ...  4489000.0  4500000.0   \ncondition                                          ...                         \n1               NaN       NaN       NaN       NaN  ...        NaN        NaN   \n2               NaN       NaN       NaN       NaN  ...        NaN        NaN   \n3           83000.0   84000.0   85000.0   86500.0  ...  4489000.0  4500000.0   \n4               NaN       NaN       NaN       NaN  ...        NaN        NaN   \n5               NaN       NaN       NaN       NaN  ...        NaN        NaN   \n\n                                                                             \\\nprice      4668000.0  5110800.0  5300000.0  5350000.0  5570000.0  6885000.0   \ncondition                                                                     \n1                NaN        NaN        NaN        NaN        NaN        NaN   \n2                NaN        NaN        NaN        NaN        NaN        NaN   \n3          4668000.0  5110800.0        NaN  5350000.0  5570000.0  6885000.0   \n4                NaN        NaN  5300000.0        NaN        NaN        NaN   \n5                NaN        NaN        NaN        NaN        NaN        NaN   \n\n                                 \nprice      7062500.0  7700000.0  \ncondition                        \n1                NaN        NaN  \n2                NaN        NaN  \n3          7062500.0        NaN  \n4                NaN  7700000.0  \n5                NaN        NaN  \n\n[5 rows x 12084 columns]",
      "text/html": "<div>\n<style scoped>\n    .dataframe tbody tr th:only-of-type {\n        vertical-align: middle;\n    }\n\n    .dataframe tbody tr th {\n        vertical-align: top;\n    }\n\n    .dataframe thead tr th {\n        text-align: left;\n    }\n\n    .dataframe thead tr:last-of-type th {\n        text-align: right;\n    }\n</style>\n<table border=\"1\" class=\"dataframe\">\n  <thead>\n    <tr>\n      <th></th>\n      <th colspan=\"10\" halign=\"left\">min</th>\n      <th>...</th>\n      <th colspan=\"10\" halign=\"left\">max</th>\n    </tr>\n    <tr>\n      <th>price</th>\n      <th>75000.0</th>\n      <th>78000.0</th>\n      <th>80000.0</th>\n      <th>81000.0</th>\n      <th>82000.0</th>\n      <th>82500.0</th>\n      <th>83000.0</th>\n      <th>84000.0</th>\n      <th>85000.0</th>\n      <th>86500.0</th>\n      <th>...</th>\n      <th>4489000.0</th>\n      <th>4500000.0</th>\n      <th>4668000.0</th>\n      <th>5110800.0</th>\n      <th>5300000.0</th>\n      <th>5350000.0</th>\n      <th>5570000.0</th>\n      <th>6885000.0</th>\n      <th>7062500.0</th>\n      <th>7700000.0</th>\n    </tr>\n    <tr>\n      <th>condition</th>\n      <th></th>\n      <th></th>\n      <th></th>\n      <th></th>\n      <th></th>\n      <th></th>\n      <th></th>\n      <th></th>\n      <th></th>\n      <th></th>\n      <th></th>\n      <th></th>\n      <th></th>\n      <th></th>\n      <th></th>\n      <th></th>\n      <th></th>\n      <th></th>\n      <th></th>\n      <th></th>\n      <th></th>\n    </tr>\n  </thead>\n  <tbody>\n    <tr>\n      <th>1</th>\n      <td>NaN</td>\n      <td>78000.0</td>\n      <td>NaN</td>\n      <td>81000.0</td>\n      <td>NaN</td>\n      <td>NaN</td>\n      <td>NaN</td>\n      <td>NaN</td>\n      <td>NaN</td>\n      <td>NaN</td>\n      <td>...</td>\n      <td>NaN</td>\n      <td>NaN</td>\n      <td>NaN</td>\n      <td>NaN</td>\n      <td>NaN</td>\n      <td>NaN</td>\n      <td>NaN</td>\n      <td>NaN</td>\n      <td>NaN</td>\n      <td>NaN</td>\n    </tr>\n    <tr>\n      <th>2</th>\n      <td>NaN</td>\n      <td>NaN</td>\n      <td>80000.0</td>\n      <td>NaN</td>\n      <td>NaN</td>\n      <td>82500.0</td>\n      <td>NaN</td>\n      <td>NaN</td>\n      <td>NaN</td>\n      <td>NaN</td>\n      <td>...</td>\n      <td>NaN</td>\n      <td>NaN</td>\n      <td>NaN</td>\n      <td>NaN</td>\n      <td>NaN</td>\n      <td>NaN</td>\n      <td>NaN</td>\n      <td>NaN</td>\n      <td>NaN</td>\n      <td>NaN</td>\n    </tr>\n    <tr>\n      <th>3</th>\n      <td>75000.0</td>\n      <td>NaN</td>\n      <td>NaN</td>\n      <td>NaN</td>\n      <td>82000.0</td>\n      <td>NaN</td>\n      <td>83000.0</td>\n      <td>84000.0</td>\n      <td>85000.0</td>\n      <td>86500.0</td>\n      <td>...</td>\n      <td>4489000.0</td>\n      <td>4500000.0</td>\n      <td>4668000.0</td>\n      <td>5110800.0</td>\n      <td>NaN</td>\n      <td>5350000.0</td>\n      <td>5570000.0</td>\n      <td>6885000.0</td>\n      <td>7062500.0</td>\n      <td>NaN</td>\n    </tr>\n    <tr>\n      <th>4</th>\n      <td>NaN</td>\n      <td>NaN</td>\n      <td>NaN</td>\n      <td>NaN</td>\n      <td>NaN</td>\n      <td>NaN</td>\n      <td>NaN</td>\n      <td>NaN</td>\n      <td>NaN</td>\n      <td>NaN</td>\n      <td>...</td>\n      <td>NaN</td>\n      <td>NaN</td>\n      <td>NaN</td>\n      <td>NaN</td>\n      <td>5300000.0</td>\n      <td>NaN</td>\n      <td>NaN</td>\n      <td>NaN</td>\n      <td>NaN</td>\n      <td>7700000.0</td>\n    </tr>\n    <tr>\n      <th>5</th>\n      <td>NaN</td>\n      <td>NaN</td>\n      <td>NaN</td>\n      <td>NaN</td>\n      <td>NaN</td>\n      <td>NaN</td>\n      <td>NaN</td>\n      <td>NaN</td>\n      <td>NaN</td>\n      <td>NaN</td>\n      <td>...</td>\n      <td>NaN</td>\n      <td>NaN</td>\n      <td>NaN</td>\n      <td>NaN</td>\n      <td>NaN</td>\n      <td>NaN</td>\n      <td>NaN</td>\n      <td>NaN</td>\n      <td>NaN</td>\n      <td>NaN</td>\n    </tr>\n  </tbody>\n</table>\n<p>5 rows × 12084 columns</p>\n</div>"
     },
     "execution_count": 4,
     "metadata": {},
     "output_type": "execute_result"
    }
   ],
   "source": [
    "price1 = df.groupby('condition')['price'].agg(['min','mean','max'])\n",
    "price2 = df.pivot_table(index='condition', values='price',aggfunc=['min','mean','max'])\n",
    "price = pd.crosstab(df.condition, , values=df.price, aggfunc=['min','mean','max'])\n",
    "price"
   ],
   "metadata": {
    "collapsed": false,
    "ExecuteTime": {
     "end_time": "2024-02-28T20:10:44.000774800Z",
     "start_time": "2024-02-28T20:10:43.771261500Z"
    }
   },
   "id": "c14e8092e9494d48"
  },
  {
   "cell_type": "markdown",
   "source": [
    "3. Постройте таблицу с подсчетом количества домов в данных в зависимости от вида на набережную waterfront и оценкой вида view и сохраните ее в view_waterfront."
   ],
   "metadata": {
    "collapsed": false
   },
   "id": "b58388ad81709ec9"
  },
  {
   "cell_type": "code",
   "execution_count": 5,
   "outputs": [
    {
     "data": {
      "text/plain": "view            0    1    2    3    4\nwaterfront                           \n0           19489  331  955  491  184\n1               0    1    8   19  135",
      "text/html": "<div>\n<style scoped>\n    .dataframe tbody tr th:only-of-type {\n        vertical-align: middle;\n    }\n\n    .dataframe tbody tr th {\n        vertical-align: top;\n    }\n\n    .dataframe thead th {\n        text-align: right;\n    }\n</style>\n<table border=\"1\" class=\"dataframe\">\n  <thead>\n    <tr style=\"text-align: right;\">\n      <th>view</th>\n      <th>0</th>\n      <th>1</th>\n      <th>2</th>\n      <th>3</th>\n      <th>4</th>\n    </tr>\n    <tr>\n      <th>waterfront</th>\n      <th></th>\n      <th></th>\n      <th></th>\n      <th></th>\n      <th></th>\n    </tr>\n  </thead>\n  <tbody>\n    <tr>\n      <th>0</th>\n      <td>19489</td>\n      <td>331</td>\n      <td>955</td>\n      <td>491</td>\n      <td>184</td>\n    </tr>\n    <tr>\n      <th>1</th>\n      <td>0</td>\n      <td>1</td>\n      <td>8</td>\n      <td>19</td>\n      <td>135</td>\n    </tr>\n  </tbody>\n</table>\n</div>"
     },
     "execution_count": 5,
     "metadata": {},
     "output_type": "execute_result"
    }
   ],
   "source": [
    "view_waterfront = df.pivot_table(index='waterfront',columns='view', values='id',aggfunc='count', fill_value=0)\n",
    "view_waterfront"
   ],
   "metadata": {
    "collapsed": false,
    "ExecuteTime": {
     "end_time": "2024-02-28T20:10:44.112739200Z",
     "start_time": "2024-02-28T20:10:43.864976800Z"
    }
   },
   "id": "5a75c83f4d59e40f"
  },
  {
   "cell_type": "markdown",
   "source": [
    "4. Каких домов в зависимости от этажности и количества спален больше? Постройте эту таблицу, содержащую в себе информацию о спальнях и этажности, и сохраните ее в bedrooms_floors."
   ],
   "metadata": {
    "collapsed": false
   },
   "id": "6526653aaec761de"
  },
  {
   "cell_type": "code",
   "execution_count": 6,
   "outputs": [
    {
     "data": {
      "text/plain": "bedrooms   0      1       2       3       4      5      6     7    8    9   \\\nfloors                                                                       \n1.0       4.0  162.0  1951.0  5455.0  2383.0  605.0  104.0   9.0  5.0  NaN   \n1.5       NaN   21.0   182.0   786.0   698.0  185.0   30.0   7.0  1.0  NaN   \n2.0       6.0   12.0   497.0  3118.0  3682.0  775.0  119.0  19.0  6.0  4.0   \n2.5       NaN    1.0     5.0    56.0    58.0   23.0   14.0   2.0  NaN  2.0   \n3.0       2.0    3.0   123.0   405.0    61.0   13.0    5.0   1.0  NaN  NaN   \n3.5       1.0    NaN     2.0     4.0     NaN    NaN    NaN   NaN  1.0  NaN   \n\nbedrooms   10   11   33  \nfloors                   \n1.0       1.0  NaN  1.0  \n1.5       NaN  NaN  NaN  \n2.0       2.0  1.0  NaN  \n2.5       NaN  NaN  NaN  \n3.0       NaN  NaN  NaN  \n3.5       NaN  NaN  NaN  ",
      "text/html": "<div>\n<style scoped>\n    .dataframe tbody tr th:only-of-type {\n        vertical-align: middle;\n    }\n\n    .dataframe tbody tr th {\n        vertical-align: top;\n    }\n\n    .dataframe thead th {\n        text-align: right;\n    }\n</style>\n<table border=\"1\" class=\"dataframe\">\n  <thead>\n    <tr style=\"text-align: right;\">\n      <th>bedrooms</th>\n      <th>0</th>\n      <th>1</th>\n      <th>2</th>\n      <th>3</th>\n      <th>4</th>\n      <th>5</th>\n      <th>6</th>\n      <th>7</th>\n      <th>8</th>\n      <th>9</th>\n      <th>10</th>\n      <th>11</th>\n      <th>33</th>\n    </tr>\n    <tr>\n      <th>floors</th>\n      <th></th>\n      <th></th>\n      <th></th>\n      <th></th>\n      <th></th>\n      <th></th>\n      <th></th>\n      <th></th>\n      <th></th>\n      <th></th>\n      <th></th>\n      <th></th>\n      <th></th>\n    </tr>\n  </thead>\n  <tbody>\n    <tr>\n      <th>1.0</th>\n      <td>4.0</td>\n      <td>162.0</td>\n      <td>1951.0</td>\n      <td>5455.0</td>\n      <td>2383.0</td>\n      <td>605.0</td>\n      <td>104.0</td>\n      <td>9.0</td>\n      <td>5.0</td>\n      <td>NaN</td>\n      <td>1.0</td>\n      <td>NaN</td>\n      <td>1.0</td>\n    </tr>\n    <tr>\n      <th>1.5</th>\n      <td>NaN</td>\n      <td>21.0</td>\n      <td>182.0</td>\n      <td>786.0</td>\n      <td>698.0</td>\n      <td>185.0</td>\n      <td>30.0</td>\n      <td>7.0</td>\n      <td>1.0</td>\n      <td>NaN</td>\n      <td>NaN</td>\n      <td>NaN</td>\n      <td>NaN</td>\n    </tr>\n    <tr>\n      <th>2.0</th>\n      <td>6.0</td>\n      <td>12.0</td>\n      <td>497.0</td>\n      <td>3118.0</td>\n      <td>3682.0</td>\n      <td>775.0</td>\n      <td>119.0</td>\n      <td>19.0</td>\n      <td>6.0</td>\n      <td>4.0</td>\n      <td>2.0</td>\n      <td>1.0</td>\n      <td>NaN</td>\n    </tr>\n    <tr>\n      <th>2.5</th>\n      <td>NaN</td>\n      <td>1.0</td>\n      <td>5.0</td>\n      <td>56.0</td>\n      <td>58.0</td>\n      <td>23.0</td>\n      <td>14.0</td>\n      <td>2.0</td>\n      <td>NaN</td>\n      <td>2.0</td>\n      <td>NaN</td>\n      <td>NaN</td>\n      <td>NaN</td>\n    </tr>\n    <tr>\n      <th>3.0</th>\n      <td>2.0</td>\n      <td>3.0</td>\n      <td>123.0</td>\n      <td>405.0</td>\n      <td>61.0</td>\n      <td>13.0</td>\n      <td>5.0</td>\n      <td>1.0</td>\n      <td>NaN</td>\n      <td>NaN</td>\n      <td>NaN</td>\n      <td>NaN</td>\n      <td>NaN</td>\n    </tr>\n    <tr>\n      <th>3.5</th>\n      <td>1.0</td>\n      <td>NaN</td>\n      <td>2.0</td>\n      <td>4.0</td>\n      <td>NaN</td>\n      <td>NaN</td>\n      <td>NaN</td>\n      <td>NaN</td>\n      <td>1.0</td>\n      <td>NaN</td>\n      <td>NaN</td>\n      <td>NaN</td>\n      <td>NaN</td>\n    </tr>\n  </tbody>\n</table>\n</div>"
     },
     "execution_count": 6,
     "metadata": {},
     "output_type": "execute_result"
    }
   ],
   "source": [
    "bedrooms_floors1 = df.groupby(['bedrooms', 'floors'])['id'].count().sort_values(ascending=False)\n",
    "bedrooms_floors = df.pivot_table(index='floors',columns='bedrooms',values='id',aggfunc='count')\n",
    "bedrooms_floors"
   ],
   "metadata": {
    "collapsed": false,
    "ExecuteTime": {
     "end_time": "2024-02-28T20:10:44.218705Z",
     "start_time": "2024-02-28T20:10:43.886636300Z"
    }
   },
   "id": "5782378c62247d35"
  },
  {
   "cell_type": "markdown",
   "source": [
    "5. Постройте таблицу с подсчетом медианной стоимости домов в данных в зависимости от состояния дома и оценки дома и сохраните в 'median_price'."
   ],
   "metadata": {
    "collapsed": false
   },
   "id": "f8e9289821cdfe99"
  },
  {
   "cell_type": "code",
   "execution_count": 7,
   "outputs": [
    {
     "data": {
      "text/plain": "grade            1         3         4         5         6         7   \\\ncondition                                                               \n1          142000.0       0.0  150000.0  190000.0  255000.0  403500.0   \n2               0.0  280000.0  145000.0  180000.0  235000.0  305000.0   \n3               0.0   75000.0  205000.0  234475.0  265000.0  357500.0   \n4               0.0       0.0  238525.0  229975.0  295000.0  390000.0   \n5               0.0  262000.0       0.0  227450.0  285475.0  456000.0   \n\ngrade            8          9          10         11         12         13  \ncondition                                                                   \n1          932500.0        0.0        0.0        0.0        0.0        0.0  \n2          429000.0   715000.0  1752500.0        0.0        0.0        0.0  \n3          485000.0   689000.0   890000.0  1209500.0  1807500.0  2888000.0  \n4          571250.0   823500.0  1030000.0  1685000.0  2125000.0  5750000.0  \n5          696000.0  1078000.0  1650000.0  2050000.0  1990000.0        0.0  ",
      "text/html": "<div>\n<style scoped>\n    .dataframe tbody tr th:only-of-type {\n        vertical-align: middle;\n    }\n\n    .dataframe tbody tr th {\n        vertical-align: top;\n    }\n\n    .dataframe thead th {\n        text-align: right;\n    }\n</style>\n<table border=\"1\" class=\"dataframe\">\n  <thead>\n    <tr style=\"text-align: right;\">\n      <th>grade</th>\n      <th>1</th>\n      <th>3</th>\n      <th>4</th>\n      <th>5</th>\n      <th>6</th>\n      <th>7</th>\n      <th>8</th>\n      <th>9</th>\n      <th>10</th>\n      <th>11</th>\n      <th>12</th>\n      <th>13</th>\n    </tr>\n    <tr>\n      <th>condition</th>\n      <th></th>\n      <th></th>\n      <th></th>\n      <th></th>\n      <th></th>\n      <th></th>\n      <th></th>\n      <th></th>\n      <th></th>\n      <th></th>\n      <th></th>\n      <th></th>\n    </tr>\n  </thead>\n  <tbody>\n    <tr>\n      <th>1</th>\n      <td>142000.0</td>\n      <td>0.0</td>\n      <td>150000.0</td>\n      <td>190000.0</td>\n      <td>255000.0</td>\n      <td>403500.0</td>\n      <td>932500.0</td>\n      <td>0.0</td>\n      <td>0.0</td>\n      <td>0.0</td>\n      <td>0.0</td>\n      <td>0.0</td>\n    </tr>\n    <tr>\n      <th>2</th>\n      <td>0.0</td>\n      <td>280000.0</td>\n      <td>145000.0</td>\n      <td>180000.0</td>\n      <td>235000.0</td>\n      <td>305000.0</td>\n      <td>429000.0</td>\n      <td>715000.0</td>\n      <td>1752500.0</td>\n      <td>0.0</td>\n      <td>0.0</td>\n      <td>0.0</td>\n    </tr>\n    <tr>\n      <th>3</th>\n      <td>0.0</td>\n      <td>75000.0</td>\n      <td>205000.0</td>\n      <td>234475.0</td>\n      <td>265000.0</td>\n      <td>357500.0</td>\n      <td>485000.0</td>\n      <td>689000.0</td>\n      <td>890000.0</td>\n      <td>1209500.0</td>\n      <td>1807500.0</td>\n      <td>2888000.0</td>\n    </tr>\n    <tr>\n      <th>4</th>\n      <td>0.0</td>\n      <td>0.0</td>\n      <td>238525.0</td>\n      <td>229975.0</td>\n      <td>295000.0</td>\n      <td>390000.0</td>\n      <td>571250.0</td>\n      <td>823500.0</td>\n      <td>1030000.0</td>\n      <td>1685000.0</td>\n      <td>2125000.0</td>\n      <td>5750000.0</td>\n    </tr>\n    <tr>\n      <th>5</th>\n      <td>0.0</td>\n      <td>262000.0</td>\n      <td>0.0</td>\n      <td>227450.0</td>\n      <td>285475.0</td>\n      <td>456000.0</td>\n      <td>696000.0</td>\n      <td>1078000.0</td>\n      <td>1650000.0</td>\n      <td>2050000.0</td>\n      <td>1990000.0</td>\n      <td>0.0</td>\n    </tr>\n  </tbody>\n</table>\n</div>"
     },
     "execution_count": 7,
     "metadata": {},
     "output_type": "execute_result"
    }
   ],
   "source": [
    "df['grade_'] = np.where((df['grade']<=3),0, np.where(df['grade']<=7,1,2))\n",
    "grade1 = df.groupby('grade_')['id'].count().sort_values(ascending=False)\n",
    "#grade\n",
    "median_price = df.pivot_table(index='condition',columns='grade',values='price',aggfunc='median', fill_value=0)\n",
    "median_price"
   ],
   "metadata": {
    "collapsed": false,
    "ExecuteTime": {
     "end_time": "2024-02-28T20:10:44.351662900Z",
     "start_time": "2024-02-28T20:10:43.922375800Z"
    }
   },
   "id": "1fe9cfa4f2aa7421"
  }
 ],
 "metadata": {
  "kernelspec": {
   "display_name": "Python 3",
   "language": "python",
   "name": "python3"
  },
  "language_info": {
   "codemirror_mode": {
    "name": "ipython",
    "version": 2
   },
   "file_extension": ".py",
   "mimetype": "text/x-python",
   "name": "python",
   "nbconvert_exporter": "python",
   "pygments_lexer": "ipython2",
   "version": "2.7.6"
  }
 },
 "nbformat": 4,
 "nbformat_minor": 5
}
